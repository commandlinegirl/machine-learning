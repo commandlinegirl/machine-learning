{
 "cells": [
  {
   "cell_type": "markdown",
   "metadata": {},
   "source": [
    "### There are 264 distinct genes in the set"
   ]
  },
  {
   "cell_type": "code",
   "execution_count": 71,
   "metadata": {
    "collapsed": false
   },
   "outputs": [
    {
     "name": "stdout",
     "output_type": "stream",
     "text": [
      "train_var\n",
      "Samples in test_var: (5668, 3)\n",
      "Samples in train_var: (3321, 4)\n",
      "Samples in test_text: (5668, 1)\n",
      "Samples in train_text: (3321, 1)\n"
     ]
    }
   ],
   "source": [
    "import pandas as pd\n",
    "import numpy as np\n",
    "\n",
    "train_var = pd.read_csv('/home/data/training_variants')\n",
    "train_var.name = 'train_var'\n",
    "\n",
    "train_text = pd.read_csv('/home/data/training_text', sep='\\|\\|', engine='python')\n",
    "train_text.name = 'train_text'\n",
    "\n",
    "test_var = pd.read_csv('/home/data/test_variants')\n",
    "test_var.name = 'test_var'\n",
    "\n",
    "test_text = pd.read_csv('/home/data/test_text', sep='\\|\\|', engine='python')\n",
    "test_text.name = 'test_text'\n",
    "\n",
    "dfs = {train_var.name: train_var,\n",
    "       train_text.name: train_text,\n",
    "       test_var.name: test_var,\n",
    "       test_text.name: test_text}\n",
    "\n",
    "for name, df in dfs.items():\n",
    "    print(\"Samples in {}: {}\".format(name, df.shape))\n",
    "    \n",
    "    "
   ]
  },
  {
   "cell_type": "code",
   "execution_count": 46,
   "metadata": {
    "collapsed": false
   },
   "outputs": [
    {
     "name": "stdout",
     "output_type": "stream",
     "text": [
      "There are 264 distinct genes in the train set\n",
      "<class 'pandas.core.series.Series'>\n"
     ]
    },
    {
     "data": {
      "image/png": "[encoded data removed]",
      "text/plain": [
       "<matplotlib.figure.Figure at 0x7f155c7e2a20>"
      ]
     },
     "metadata": {},
     "output_type": "display_data"
    }
   ],
   "source": [
    "\n",
    "\n",
    "agg_funcs = {\n",
    "    'Variation': ['count']\n",
    "}\n",
    "\n",
    "x = df.groupby(['Gene']).agg(agg_funcs)\n",
    "x.columns = x.columns.droplevel(1)\n",
    "\n",
    "print(\"There are {} distinct genes in the train set\".format(len(x)))\n",
    "\n",
    "df['Class'].hist(bins=np.arange(11)-0.5)\n",
    "print(type(df['Class']))"
   ]
  },
  {
   "cell_type": "code",
   "execution_count": null,
   "metadata": {
    "collapsed": true
   },
   "outputs": [],
   "source": []
  }
 ],
 "metadata": {
  "kernelspec": {
   "display_name": "Python 3",
   "language": "python",
   "name": "python3"
  },
  "language_info": {
   "codemirror_mode": {
    "name": "ipython",
    "version": 3
   },
   "file_extension": ".py",
   "mimetype": "text/x-python",
   "name": "python",
   "nbconvert_exporter": "python",
   "pygments_lexer": "ipython3",
   "version": "3.5.2"
  }
 },
 "nbformat": 4,
 "nbformat_minor": 2
}
