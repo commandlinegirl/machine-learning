{
 "cells": [
  {
   "cell_type": "code",
   "execution_count": 71,
   "metadata": {
    "collapsed": true
   },
   "outputs": [],
   "source": [
    "import tensorflow as tf # a default graph is created with a tf import\n",
    "import numpy as np"
   ]
  },
  {
   "cell_type": "code",
   "execution_count": 45,
   "metadata": {
    "collapsed": false
   },
   "outputs": [],
   "source": [
    "# the contents of these variables are the *outputs* of the operations\n",
    "# and not operations themselves\n",
    "\n",
    "a = tf.constant(5, name = \"my_a\") # output of a const value\n",
    "b = tf.constant(2, name = \"my_b\")\n",
    "c = tf.constant(3, name = \"my_c\")\n",
    "\n",
    "d = tf.multiply(a, b, name = \"my_d\")\n",
    "e = tf.add(c, b, name = \"my_e\")\n",
    "f = tf.subtract(d, e, name = \"my_f\")\n",
    "g = tf.logical_xor(True, False)"
   ]
  },
  {
   "cell_type": "markdown",
   "metadata": {},
   "source": [
    "### Fetches"
   ]
  },
  {
   "cell_type": "code",
   "execution_count": 46,
   "metadata": {
    "collapsed": false
   },
   "outputs": [
    {
     "name": "stdout",
     "output_type": "stream",
     "text": [
      "[5, 2, 3, 10, 5, 5]\n",
      "<type 'numpy.int32'>\n"
     ]
    }
   ],
   "source": [
    "# the graph computes only essential nodes according to the \n",
    "# dependencies (here - of \"outs\")\n",
    "with tf.Session() as sess:\n",
    "    fetches = [a,b,c,d,e,f]  # fetches hold the element of the graph\n",
    "                             # we want to compute\n",
    "    outs = sess.run(fetches) # execution\n",
    "    \n",
    "print(outs)\n",
    "print(type(outs[0]))         # list of numpy elements"
   ]
  },
  {
   "cell_type": "code",
   "execution_count": 47,
   "metadata": {
    "collapsed": false
   },
   "outputs": [
    {
     "name": "stdout",
     "output_type": "stream",
     "text": [
      "<class 'tensorflow.python.framework.ops.Tensor'>\n",
      "Tensor(\"my_f:0\", shape=(), dtype=int32)\n",
      "<type 'numpy.int32'>\n",
      "5\n"
     ]
    }
   ],
   "source": [
    "# we can perform the same runs in the same graph multiple times\n",
    "# but each in a new session\n",
    "with tf.Session() as sess:\n",
    "    out = sess.run(f)\n",
    "print(type(f))\n",
    "print(f)\n",
    "print(type(out))\n",
    "print(out)"
   ]
  },
  {
   "cell_type": "markdown",
   "metadata": {},
   "source": [
    "### Graphs"
   ]
  },
  {
   "cell_type": "code",
   "execution_count": 12,
   "metadata": {
    "collapsed": false
   },
   "outputs": [
    {
     "name": "stdout",
     "output_type": "stream",
     "text": [
      "<tensorflow.python.framework.ops.Graph object at 0x7f85fc5a6150>\n",
      "<tensorflow.python.framework.ops.Graph object at 0x7f85fa502cd0>\n",
      "<tensorflow.python.framework.ops.Graph object at 0x7f85fc5a6150>\n",
      "True\n"
     ]
    }
   ],
   "source": [
    "# compare the default graph and another one\n",
    "print(tf.get_default_graph())\n",
    "g = tf.Graph()\n",
    "print(g)\n",
    "\n",
    "# check which graph is associated with a node\n",
    "s = tf.constant(10)\n",
    "print(s.graph)\n",
    "\n",
    "# use contect manager (with statement) to run with a given graph\n",
    "with g.as_default():\n",
    "    print(g is tf.get_default_graph())"
   ]
  },
  {
   "cell_type": "code",
   "execution_count": 49,
   "metadata": {
    "collapsed": false
   },
   "outputs": [
    {
     "name": "stdout",
     "output_type": "stream",
     "text": [
      "Tensor(\"my:0\", shape=(), dtype=int32)\n",
      "Tensor(\"my_1:0\", shape=(), dtype=int32)\n"
     ]
    }
   ],
   "source": [
    "with tf.Graph().as_default():\n",
    "    print(tf.constant(1, name = \"my\")) # names should be unique *in the same graph*;\n",
    "    print(tf.constant(2, name = \"my\")) # tf adds \"_<n>\" otherwise"
   ]
  },
  {
   "cell_type": "markdown",
   "metadata": {},
   "source": [
    "### Name scopes"
   ]
  },
  {
   "cell_type": "code",
   "execution_count": 52,
   "metadata": {
    "collapsed": false
   },
   "outputs": [
    {
     "name": "stdout",
     "output_type": "stream",
     "text": [
      "Tensor(\"prefix_A/p:0\", shape=(), dtype=int32)\n",
      "Tensor(\"prefix_A/q:0\", shape=(), dtype=int32)\n",
      "Tensor(\"prefix_A/prefix_B/r:0\", shape=(), dtype=int32)\n",
      "Tensor(\"prefix_A/prefix_B/s:0\", shape=(), dtype=int32)\n"
     ]
    }
   ],
   "source": [
    "with tf.Graph().as_default():\n",
    "    with tf.name_scope(\"prefix_A\"):\n",
    "        print(tf.constant(1, name = \"p\")) \n",
    "        print(tf.constant(2, name = \"q\"))\n",
    "        with tf.name_scope(\"prefix_B\"):\n",
    "            print(tf.constant(11, name = \"r\"))\n",
    "            print(tf.constant(22, name = \"s\"))"
   ]
  },
  {
   "cell_type": "markdown",
   "metadata": {},
   "source": [
    "### Variables\n",
    "\n",
    "Variables are a special type of Tensors that can maintain a \"fixed\" state in a graph.\n",
    "Using them requires they are initialized."
   ]
  },
  {
   "cell_type": "code",
   "execution_count": 65,
   "metadata": {
    "collapsed": false
   },
   "outputs": [
    {
     "name": "stdout",
     "output_type": "stream",
     "text": [
      "<tf.Variable 'Variable_11:0' shape=(1, 4) dtype=float32_ref>\n",
      "It'll throw with a mesg Attempting to use uninitialized value Variable_6\n",
      "[[ 2.53858614  0.71087223  0.24701412  0.54690635]]\n"
     ]
    }
   ],
   "source": [
    "init_val = tf.random_normal((1, 4), 0 , 1)\n",
    "var = tf.Variable(init_val)\n",
    "print(var)\n",
    "\n",
    "try:\n",
    "    with tf.Session() as sess:\n",
    "        result = sess.run(var)\n",
    "except tf.errors.FailedPreconditionError:\n",
    "    print \"It'll throw with a mesg Attempting to use uninitialized value Variable_6\"\n",
    "\n",
    "# Now initialize the Variable\n",
    "init = tf.global_variables_initializer()\n",
    "with tf.Session() as sess:\n",
    "    sess.run(init)\n",
    "    result = sess.run(var)\n",
    "    print(result)\n",
    "    \n",
    "# with each run a new Variable is created - the name will have \"_n\" appended to name: 'Variable_11:0'"
   ]
  },
  {
   "cell_type": "markdown",
   "metadata": {},
   "source": [
    "### Placeholders"
   ]
  },
  {
   "cell_type": "code",
   "execution_count": 69,
   "metadata": {
    "collapsed": false
   },
   "outputs": [
    {
     "name": "stdout",
     "output_type": "stream",
     "text": [
      "Tensor(\"Placeholder_1:0\", shape=(?, 10), dtype=float32)\n"
     ]
    }
   ],
   "source": [
    "# if shape is None or empty, anu size is accepted\n",
    "pa = tf.placeholder(tf.float32, shape=(None, 10))\n",
    "print(pa)"
   ]
  },
  {
   "cell_type": "code",
   "execution_count": 86,
   "metadata": {
    "collapsed": false
   },
   "outputs": [
    {
     "name": "stdout",
     "output_type": "stream",
     "text": [
      "[[ 2.61419582]\n",
      " [-1.43373728]\n",
      " [ 1.55462527]\n",
      " [ 0.58991057]\n",
      " [ 1.69534183]]\n",
      "[0]\n"
     ]
    }
   ],
   "source": [
    "_x = np.random.randn(5, 10)\n",
    "_y = np.random.randn(10, 1)\n",
    "\n",
    "with tf.Graph().as_default():\n",
    "    x = tf.placeholder(tf.float32, shape=(5, 10))\n",
    "    y = tf.placeholder(tf.float32, shape=(10, 1))\n",
    "    xy = tf.matmul(x, y)\n",
    "    argmax = tf.argmax(xy)\n",
    "\n",
    "    with tf.Session() as sess:\n",
    "        matr = sess.run(xy, feed_dict={x: _x, y: _y})\n",
    "        # scalar = sess.run(argmax, feed_dict={x: _x, y: _y}) # hm, why does this work??\n",
    "        scalar = sess.run(argmax, feed_dict={xy: matr})\n",
    "\n",
    "print(matr)\n",
    "print(scalar)"
   ]
  },
  {
   "cell_type": "markdown",
   "metadata": {},
   "source": [
    "### Optimization"
   ]
  },
  {
   "cell_type": "markdown",
   "metadata": {},
   "source": [
    "#### Multivariate linear regression"
   ]
  },
  {
   "cell_type": "code",
   "execution_count": 88,
   "metadata": {
    "collapsed": true
   },
   "outputs": [],
   "source": [
    "x = tf.placeholder(tf.float32, shape=(None, 3))\n",
    "y = tf.placeholder(tf.float32, shape=(None, 3))\n",
    "w = tf.placeholder(tf.float32, shape=(None, 3), name = 'weights')\n",
    "b = tf.placeholder(tf.float32, shape=(None, 3), name = 'intercept')\n",
    "\n",
    "y_pred = tf.matmul(tf.transpose(w), x) + b"
   ]
  },
  {
   "cell_type": "code",
   "execution_count": null,
   "metadata": {
    "collapsed": true
   },
   "outputs": [],
   "source": []
  }
 ],
 "metadata": {
  "kernelspec": {
   "display_name": "Python 2",
   "language": "python",
   "name": "python2"
  },
  "language_info": {
   "codemirror_mode": {
    "name": "ipython",
    "version": 2
   },
   "file_extension": ".py",
   "mimetype": "text/x-python",
   "name": "python",
   "nbconvert_exporter": "python",
   "pygments_lexer": "ipython2",
   "version": "2.7.12"
  }
 },
 "nbformat": 4,
 "nbformat_minor": 2
}
