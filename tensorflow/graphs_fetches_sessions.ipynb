{
 "cells": [
  {
   "cell_type": "code",
   "execution_count": 1,
   "metadata": {
    "collapsed": true
   },
   "outputs": [],
   "source": [
    "import tensorflow as tf # a default graph is created with a tf import"
   ]
  },
  {
   "cell_type": "code",
   "execution_count": 8,
   "metadata": {
    "collapsed": false
   },
   "outputs": [],
   "source": [
    "# the contents of these variables are the *outputs* of the operations\n",
    "# and not operations themselves\n",
    "\n",
    "a = tf.constant(5) # output of a const value\n",
    "b = tf.constant(2)\n",
    "c = tf.constant(3)\n",
    "\n",
    "d = tf.multiply(a, b)\n",
    "e = tf.add(c, b)\n",
    "f = tf.subtract(d, e)\n",
    "g = tf.logical_xor(True, False)"
   ]
  },
  {
   "cell_type": "code",
   "execution_count": 15,
   "metadata": {
    "collapsed": false
   },
   "outputs": [
    {
     "name": "stdout",
     "output_type": "stream",
     "text": [
      "[5, 2, 3, 10, 5, 5]\n",
      "<type 'numpy.int32'>\n"
     ]
    }
   ],
   "source": [
    "# the graph computes only essential nodes according to the \n",
    "# dependencies (here - of \"outs\")\n",
    "with tf.Session() as sess:\n",
    "    fetches = [a,b,c,d,e,f]  # fetches hold the element of the graph\n",
    "                             # we want to compute\n",
    "    outs = sess.run(fetches) # execution\n",
    "    \n",
    "print(outs)\n",
    "print(type(outs[0]))         # list of numpy elements"
   ]
  },
  {
   "cell_type": "code",
   "execution_count": 12,
   "metadata": {
    "collapsed": false
   },
   "outputs": [
    {
     "name": "stdout",
     "output_type": "stream",
     "text": [
      "<tensorflow.python.framework.ops.Graph object at 0x7f85fc5a6150>\n",
      "<tensorflow.python.framework.ops.Graph object at 0x7f85fa502cd0>\n",
      "<tensorflow.python.framework.ops.Graph object at 0x7f85fc5a6150>\n",
      "True\n"
     ]
    }
   ],
   "source": [
    "# compare the default graph and another one\n",
    "print(tf.get_default_graph())\n",
    "g = tf.Graph()\n",
    "print(g)\n",
    "\n",
    "# check which graph is associated with a node\n",
    "s = tf.constant(10)\n",
    "print(s.graph)\n",
    "\n",
    "# use contect manager (with statement) to run with a given graph\n",
    "with g.as_default():\n",
    "    print(g is tf.get_default_graph())"
   ]
  },
  {
   "cell_type": "code",
   "execution_count": null,
   "metadata": {
    "collapsed": true
   },
   "outputs": [],
   "source": []
  }
 ],
 "metadata": {
  "kernelspec": {
   "display_name": "Python 2",
   "language": "python",
   "name": "python2"
  },
  "language_info": {
   "codemirror_mode": {
    "name": "ipython",
    "version": 2
   },
   "file_extension": ".py",
   "mimetype": "text/x-python",
   "name": "python",
   "nbconvert_exporter": "python",
   "pygments_lexer": "ipython2",
   "version": "2.7.12"
  }
 },
 "nbformat": 4,
 "nbformat_minor": 2
}
