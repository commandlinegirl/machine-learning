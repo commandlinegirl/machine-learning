{
 "cells": [
  {
   "cell_type": "markdown",
   "metadata": {},
   "source": [
    "### Ensemble classifier - soft voting"
   ]
  },
  {
   "cell_type": "code",
   "execution_count": 46,
   "metadata": {
    "collapsed": false,
    "deletable": true,
    "editable": true
   },
   "outputs": [
    {
     "name": "stdout",
     "output_type": "stream",
     "text": [
      "LogisticRegression score: 0.9166666666666666\n",
      "RandomForest score: 0.9333333333333333\n",
      "SVC score: 0.95\n",
      "Ensemble Classifier (soft voting) score: 0.9333333333333333\n"
     ]
    }
   ],
   "source": [
    "from sklearn.ensemble import RandomForestClassifier\n",
    "from sklearn.ensemble import VotingClassifier\n",
    "from sklearn.linear_model import LogisticRegression\n",
    "from sklearn.svm import SVC\n",
    "from sklearn.model_selection import train_test_split\n",
    "from sklearn import datasets\n",
    "from sklearn.metrics import accuracy_score\n",
    "import numpy as np\n",
    "\n",
    "iris = datasets.load_iris()\n",
    "X_train, X_test, y_train, y_test = train_test_split(\n",
    "    iris.data, iris.target, test_size=0.4, random_state=0)\n",
    "\n",
    "logistic = LogisticRegression()\n",
    "rndforest = RandomForestClassifier()\n",
    "svc = SVC(probability=True) # probability=True will add predict_proba() method needed for soft voting\n",
    "\n",
    "classifiers = [('LogisticRegression', logistic), ('RandomForest', rndforest), ('SVC', svc)]\n",
    "\n",
    "# Individual classifiers\n",
    "for name, clf in classifiers:\n",
    "    clf.fit(X_train, y_train)\n",
    "    y_pred = clf.predict(X_test)\n",
    "    print(\"{} score: {}\".format(name, accuracy_score(y_test, y_pred)))\n",
    "\n",
    "# Ensemble classifier - voting soft\n",
    "voting_clf_soft = VotingClassifier(\n",
    "    estimators=classifiers,\n",
    "    voting = 'soft',\n",
    "    n_jobs = -1)\n",
    "voting_clf_soft.fit(X_train, y_train)\n",
    "y_pred = voting_clf_soft.predict(X_test)\n",
    "print(\"Ensemble Classifier (soft voting) score: {}\".format(accuracy_score(y_test, y_pred)))\n",
    "\n"
   ]
  },
  {
   "cell_type": "markdown",
   "metadata": {},
   "source": [
    "### Ensemble classifier - hard voting"
   ]
  },
  {
   "cell_type": "code",
   "execution_count": 47,
   "metadata": {
    "collapsed": false,
    "deletable": true,
    "editable": true
   },
   "outputs": [
    {
     "name": "stdout",
     "output_type": "stream",
     "text": [
      "LogisticRegression score: 0.9166666666666666\n",
      "RandomForest score: 0.9166666666666666\n",
      "SVC score: 0.95\n",
      "Ensemble Classifier (hard voting) score: 0.9666666666666667\n"
     ]
    }
   ],
   "source": [
    "from sklearn.ensemble import RandomForestClassifier\n",
    "from sklearn.ensemble import VotingClassifier\n",
    "from sklearn.linear_model import LogisticRegression\n",
    "from sklearn.svm import SVC\n",
    "from sklearn.model_selection import train_test_split\n",
    "from sklearn import datasets\n",
    "from sklearn.metrics import accuracy_score\n",
    "import numpy as np\n",
    "\n",
    "iris = datasets.load_iris()\n",
    "X_train, X_test, y_train, y_test = train_test_split(\n",
    "    iris.data, iris.target, test_size=0.4, random_state=0)\n",
    "\n",
    "logistic = LogisticRegression()\n",
    "rndforest = RandomForestClassifier()\n",
    "svc = SVC()\n",
    "\n",
    "classifiers = [('LogisticRegression', logistic), ('RandomForest', rndforest), ('SVC', svc)]\n",
    "\n",
    "# Individual classifiers\n",
    "for name, clf in classifiers:\n",
    "    clf.fit(X_train, y_train)\n",
    "    y_pred = clf.predict(X_test)\n",
    "    print(\"{} score: {}\".format(name, accuracy_score(y_test, y_pred)))\n",
    "\n",
    "# Ensemble classifier - voting hard\n",
    "voting_clf_hard = VotingClassifier(\n",
    "    estimators=classifiers,\n",
    "    voting = 'hard',\n",
    "    n_jobs = -1)\n",
    "voting_clf_hard.fit(X_train, y_train)\n",
    "y_pred = voting_clf_hard.predict(X_test)\n",
    "print(\"Ensemble Classifier (hard voting) score: {}\".format(accuracy_score(y_test, y_pred)))\n",
    "\n"
   ]
  }
 ],
 "metadata": {
  "kernelspec": {
   "display_name": "Python 3",
   "language": "python",
   "name": "python3"
  },
  "language_info": {
   "codemirror_mode": {
    "name": "ipython",
    "version": 3
   },
   "file_extension": ".py",
   "mimetype": "text/x-python",
   "name": "python",
   "nbconvert_exporter": "python",
   "pygments_lexer": "ipython3",
   "version": "3.5.2"
  }
 },
 "nbformat": 4,
 "nbformat_minor": 2
}
