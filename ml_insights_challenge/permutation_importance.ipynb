{
  "cells": [
    {
      "metadata": {
        "_uuid": "e6918c15698ae154efb369fe0384c7ae84f084e6"
      },
      "cell_type": "markdown",
      "source": "# Exercises\n\n## Intro\n\nYou will think about and calculate permutation importance with a sample of data from the [Taxi Fare Prediction](https://www.kaggle.com/c/new-york-city-taxi-fare-prediction) competition.\n\nWe won't focus on data exploration or model building for now. You can just run the cell below to \n- Load the data\n- Divide the data into training and validation\n- Build a model that predicts taxi fares\n- Print a few rows for you to review"
    },
    {
      "metadata": {
        "_cell_guid": "b1076dfc-b9ad-4769-8c92-a6c4dae69d19",
        "_uuid": "8f2839f25d086af736a60e9eeb907d3b93b6e0e5",
        "trusted": true
      },
      "cell_type": "code",
      "source": "# Loading data, dividing, modeling and EDA below\nimport pandas as pd\nfrom sklearn.ensemble import RandomForestRegressor\nfrom sklearn.linear_model import LinearRegression\nfrom sklearn.model_selection import train_test_split\n\ndata = pd.read_csv('../input/new-york-city-taxi-fare-prediction/train.csv', nrows=50000)\n\n# Remove data with extreme outlier coordinates or negative fares\ndata = data.query('pickup_latitude > 40.7 and pickup_latitude < 40.8 and ' +\n                  'dropoff_latitude > 40.7 and dropoff_latitude < 40.8 and ' +\n                  'pickup_longitude > -74 and pickup_longitude < -73.9 and ' +\n                  'dropoff_longitude > -74 and dropoff_longitude < -73.9 and ' +\n                  'fare_amount > 0'\n                  )\n\ny = data.fare_amount\n\nbase_features = ['pickup_longitude',\n                 'pickup_latitude',\n                 'dropoff_longitude',\n                 'dropoff_latitude',\n                 'passenger_count']\n\nX = data[base_features]\n\n\ntrain_X, val_X, train_y, val_y = train_test_split(X, y, random_state=1)\nfirst_model = RandomForestRegressor(n_estimators=30, random_state=1).fit(train_X, train_y)\n\n# Environment Set-Up for feedback system.\nimport sys\nsys.path.append('../input/ml-insights-tools')\nfrom learntools.core import binder\nbinder.bind(globals())\nfrom ex2 import *\nprint(\"Setup Complete\")\n\n# show data\nprint(\"Data sample:\")\ndata.head()",
      "execution_count": null,
      "outputs": []
    },
    {
      "metadata": {
        "_uuid": "b34881f9c8b45f890e4f88feaa84f7cd3f4f04aa"
      },
      "cell_type": "markdown",
      "source": "The following two cells may also be useful to understand the values in the training data:"
    },
    {
      "metadata": {
        "_uuid": "8b2ec7632fc1530bd22544a533893ce5693f4907",
        "trusted": true
      },
      "cell_type": "code",
      "source": "train_X.describe()",
      "execution_count": null,
      "outputs": []
    },
    {
      "metadata": {
        "_uuid": "672cadbfe17165fa3f7d3764a148fbdb0cc8416d",
        "trusted": true
      },
      "cell_type": "code",
      "source": "train_y.describe()",
      "execution_count": null,
      "outputs": []
    },
    {
      "metadata": {
        "_uuid": "2935bf8cc49014bcde543223b8892980966fec86"
      },
      "cell_type": "markdown",
      "source": "## Question 1\n\nThe first model uses the following features\n- pickup_longitude\n- pickup_latitude\n- dropoff_longitude\n- dropoff_latitude\n- passenger_count\n\nBefore running any code... which variables seem potentially useful for predicting taxi fares? Do you think permutation importance will necessarily identify these features as important?\n\nOnce you've thought about it, run `q_1.solution()` below to see how you might think about this before running the code."
    },
    {
      "metadata": {
        "_uuid": "21fc969aa9f42d84837d3f77d91a82904aa78328",
        "trusted": false
      },
      "cell_type": "code",
      "source": "# q_1.solution()",
      "execution_count": null,
      "outputs": []
    },
    {
      "metadata": {
        "_uuid": "aa7dc52947a0f0b3936bc831f682500f5f3c9e9c"
      },
      "cell_type": "markdown",
      "source": "## Question 2\n\nCreate a `PermutationImportance` object called `perm` to show the importances from `first_model`.  Fit it with the appropriate data and show the weights.\n\nFor your convenience, the code from the tutorial has been copied into a comment in this code cell."
    },
    {
      "metadata": {
        "_uuid": "2ac92483d44ef98820a5bab66efc9f84bf206844",
        "trusted": true
      },
      "cell_type": "code",
      "source": "import eli5\nfrom eli5.sklearn import PermutationImportance\n\n# Make a small change to the code below to use in this problem. \nperm = PermutationImportance(first_model, random_state=1).fit(val_X, val_y)\n\nq_2.check()\n\n# uncomment the following line to visualize your results\neli5.show_weights(perm, feature_names = val_X.columns.tolist())",
      "execution_count": null,
      "outputs": []
    },
    {
      "metadata": {
        "_uuid": "46ef0de51525c7950ef85c3a826e821f3246f752"
      },
      "cell_type": "markdown",
      "source": "Uncomment the lines below for a hint or to see the solution."
    },
    {
      "metadata": {
        "_uuid": "3f8b89697eac9f46008b9a3fa7b6c29602698928",
        "trusted": true
      },
      "cell_type": "code",
      "source": "q_2.hint()\nq_2.solution()",
      "execution_count": null,
      "outputs": []
    },
    {
      "metadata": {
        "_uuid": "51eafcb195838d6c9af3ec3c0c2f504b218af386"
      },
      "cell_type": "markdown",
      "source": "## Question 3\nBefore seeing these results, we might have expected each of the 4 directional features to be equally important.\n\nBut, on average, the latitude features matter more than the longititude features. Can you come up with any hypotheses for this?\n\nAfter you've thought about it, check here for some possible explanations:"
    },
    {
      "metadata": {
        "_uuid": "3cbc76c2dea590ed867b7a7f68023f7bb0e59a19",
        "trusted": true
      },
      "cell_type": "code",
      "source": "q_3.solution()",
      "execution_count": null,
      "outputs": []
    },
    {
      "metadata": {
        "_uuid": "dc4a0b8e9ab0f1188a86c9c51a8a5c531b4aa170"
      },
      "cell_type": "markdown",
      "source": "## Question 4\n\nWithout detailed knowledge of New York City, it's difficult to rule out most hypotheses about why latitude features matter more than longitude.\n\nA good next step is to disentangle the effect of being in certain parts of the city from the effect of total distance traveled.  \n\nThe code below creates new features for longitudinal and latitudinal distance. It then builds a model that adds these new features to those you already had.\n\nFill in two lines of code to calculate and show the importance weights with this new set of features. As usual, you can uncomment lines below to check your code, see a hint or get the solution."
    },
    {
      "metadata": {
        "_uuid": "99db7f1e457ecb1770bda15b1921ce091cef284f",
        "trusted": true
      },
      "cell_type": "code",
      "source": "# create new features\ndata['abs_lon_change'] = abs(data.dropoff_longitude - data.pickup_longitude)\ndata['abs_lat_change'] = abs(data.dropoff_latitude - data.pickup_latitude)\n\nfeatures_2  = ['pickup_longitude',\n               'pickup_latitude',\n               'dropoff_longitude',\n               'dropoff_latitude',\n               'abs_lat_change',\n               'abs_lon_change']\n\nX = data[features_2]\nnew_train_X, new_val_X, new_train_y, new_val_y = train_test_split(X, y, random_state=1)\nsecond_model = RandomForestRegressor(n_estimators=30, random_state=1).fit(new_train_X, new_train_y)\n\n# Create a PermutationImportance object on second_model and fit it to new_val_X and new_val_y\n# Use a random_state of 1 for reproducible results that match the expected solution.\nperm2 = PermutationImportance(second_model, random_state=1).fit(new_val_X, new_val_y)\n\n# show the weights for the permutation importance you just calculated\neli5.show_weights(perm2, feature_names = features_2)\n\nq_4.check()",
      "execution_count": null,
      "outputs": []
    },
    {
      "metadata": {
        "_uuid": "037833edf925022d265626a98ab41a71f2d2d47b"
      },
      "cell_type": "markdown",
      "source": "How would you interpret these importance scores? Distance traveled seems far more important than any location effects. \n\nBut the location still affects model predictions, and dropoff location now matters slightly more than pickup location. Do you have any hypotheses for why this might be? The techniques used later in the course will help us dive into this more."
    },
    {
      "metadata": {
        "_uuid": "3a9da0fdc0f5ad713a04522978a9541f20696595",
        "trusted": true
      },
      "cell_type": "code",
      "source": "q_4.solution()",
      "execution_count": null,
      "outputs": []
    },
    {
      "metadata": {
        "_uuid": "3a60089697c03eb265c46743500ded43585d2369"
      },
      "cell_type": "markdown",
      "source": "## Question 5\n\nA colleague observes that the values for `abs_lon_change` and `abs_lat_change` are pretty small (all values are between -0.1 and 0.1), whereas other variables have larger values.  Do you think this could explain why those coordinates had larger permutation importance values in this case?  \n\nConsider an alternative where you created and used a feature that was 100X as large for these features, and used that larger feature for training and importance calculations. Would this change the outputted permutaiton importance values?\n\nWhy or why not?\n\nAfter you have thought about your answer, either try this experiment or look up the answer in the cell below"
    },
    {
      "metadata": {
        "_uuid": "ee73c14030412e4bca2675447bda7813f47fb689",
        "trusted": true
      },
      "cell_type": "code",
      "source": "q_5.solution()",
      "execution_count": null,
      "outputs": []
    },
    {
      "metadata": {
        "_uuid": "14b76a7fad359bc72cd455c7ff47440753a0ea60"
      },
      "cell_type": "markdown",
      "source": "## Question 6\n\nYou've seen that the feature importance for latitudinal distance is greater than the importance of longitudinal distance. From this, can we conclude whether travelling a fixed latitudinal distance tends to be more expensive than traveling the same longitudinal distance?\n\nWhy or why not? Check your answer below."
    },
    {
      "metadata": {
        "_uuid": "e5cc58463bfe98efe2db49601a223c2db4e28aa2",
        "trusted": true
      },
      "cell_type": "code",
      "source": "q_6.solution()",
      "execution_count": null,
      "outputs": []
    },
    {
      "metadata": {
        "_uuid": "f1753a119a916c29b902048ead5cfda5829dfa44"
      },
      "cell_type": "markdown",
      "source": "## Congrats\n\nPermutation importance is useful useful for debugging, understanding your model, and communicating a high-level overview from your model.  Next up will be partial dependence plots, which will help you see how individual features affect predictions."
    }
  ],
  "metadata": {
    "kernelspec": {
      "display_name": "Python 3",
      "language": "python",
      "name": "python3"
    },
    "language_info": {
      "name": "python",
      "version": "3.6.6",
      "mimetype": "text/x-python",
      "codemirror_mode": {
        "name": "ipython",
        "version": 3
      },
      "pygments_lexer": "ipython3",
      "nbconvert_exporter": "python",
      "file_extension": ".py"
    }
  },
  "nbformat": 4,
  "nbformat_minor": 1
}